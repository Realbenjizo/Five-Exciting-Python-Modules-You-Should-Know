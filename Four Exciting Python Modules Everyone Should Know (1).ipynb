{
 "cells": [
  {
   "cell_type": "code",
   "execution_count": null,
   "id": "daa5fc99",
   "metadata": {},
   "outputs": [],
   "source": [
    "from forex_python.converter import CurrencyRates\n",
    "import datetime\n",
    "\n",
    "currency_rates = CurrencyRates()\n",
    "\n",
    "def historical_rate(from_currency, to_currency, date_obj):\n",
    "    hist_rate = currency_rates.get_rate(from_currency, to_currency, date_obj)\n",
    "    return hist_rate\n",
    "\n",
    "from_currency = \"USD\"\n",
    "to_currency  = \"EUR\"\n",
    "date_obj = datetime.datetime(2020, 10, 23)\n",
    "\n",
    "if __name__ == \"__main__\":\n",
    "    print(historical_rate(from_currency, to_currency, date_obj))    "
   ]
  },
  {
   "cell_type": "code",
   "execution_count": null,
   "id": "992a097e",
   "metadata": {},
   "outputs": [],
   "source": [
    "from forex_python.converter import CurrencyRates\n",
    "\n",
    "# Instantiate the converter\n",
    "currency_rates = CurrencyRates()\n",
    "\n",
    "def currency_converter():\n",
    "    # Enter the amount to convert\n",
    "    amount = int(input(\"Please enter amount to convert: \"))\n",
    "    # currency code of the amount to convert\n",
    "    from_currency = input(\"Enter the currency code of \"\n",
    "                          \"amount you are converting from : \").upper()\n",
    "    # currency code of the amount to convert to\n",
    "    to_currency = input(\"Enter the currency code you \"\n",
    "                        \"are converting to: \").upper()\n",
    "    # convert the amount\n",
    "    converted_amount = currency_rates.convert(from_currency, \n",
    "                                         to_currency, amount)\n",
    "    return f'The amount of {amount}{from_currency}' \\\n",
    "           f' has been converted to {converted_amount:.2f}{to_currency}.'\n",
    "\n",
    "   \n",
    "print(currency_converter())"
   ]
  },
  {
   "cell_type": "code",
   "execution_count": null,
   "id": "89e257da",
   "metadata": {},
   "outputs": [],
   "source": [
    "from faker import Faker\n",
    "\n",
    "fake = Faker('it_IT')\n",
    "\n",
    "for _ in range(10):\n",
    "    print(fake.name(), fake.address())"
   ]
  },
  {
   "cell_type": "code",
   "execution_count": null,
   "id": "ef8f1285",
   "metadata": {},
   "outputs": [],
   "source": [
    "from faker import Faker\n",
    "\n",
    "fake = Faker()\n",
    "\n",
    "for _ in range(5):\n",
    "    print(fake.text())"
   ]
  },
  {
   "cell_type": "code",
   "execution_count": null,
   "id": "757ad4b2",
   "metadata": {},
   "outputs": [],
   "source": [
    "from better_profanity import profanity\n",
    "\n",
    "text = 'I hate this shit'\n",
    "censored_text = profanity.censor(text)\n",
    "print(censored_text)"
   ]
  },
  {
   "cell_type": "code",
   "execution_count": null,
   "id": "cbbc8613",
   "metadata": {},
   "outputs": [],
   "source": [
    "text = 'I hate this shit so much'\n",
    "\n",
    "# Setting the censor character.\n",
    "censored_text = profanity.censor(text, censor_char='$')\n",
    "print(censored_text)"
   ]
  },
  {
   "cell_type": "code",
   "execution_count": null,
   "id": "94bd76ea",
   "metadata": {},
   "outputs": [],
   "source": [
    "# Create a custom list of words to censor\n",
    "bad_words = [ 'Hate', 'War', 'evil']\n",
    "\n",
    "profanity.load_censor_words(bad_words)\n",
    "\n",
    "text = 'People that love war are evil'\n",
    "\n",
    "censored_text = profanity.censor(text)\n",
    "print(censored_text)"
   ]
  },
  {
   "cell_type": "code",
   "execution_count": null,
   "id": "7725eb2d",
   "metadata": {},
   "outputs": [],
   "source": [
    "text = 'I hate this shit so much'\n",
    "\n",
    "# Checking if text contains profanity\n",
    "print(profanity.contains_profanity(text))"
   ]
  },
  {
   "cell_type": "code",
   "execution_count": null,
   "id": "aab7d0d8",
   "metadata": {},
   "outputs": [],
   "source": [
    "import yfinance as yf\n",
    "\n",
    "# Define the stock symbol \n",
    "stock_symbol = \"AAPL\"\n",
    "# Set the date range\n",
    "start_date = \"2020-01-01\"\n",
    "end_date = \"2020-06-30\"\n",
    "\n",
    "# Fetch stock data\n",
    "stock_data = yf.download(stock_symbol, start=start_date, end=end_date)\n",
    "stock_data"
   ]
  },
  {
   "cell_type": "code",
   "execution_count": null,
   "id": "df2f8db2",
   "metadata": {},
   "outputs": [],
   "source": [
    "import yfinance as yf\n",
    "\n",
    "msft = yf.Ticker(\"MSFT\")\n",
    "income_statements = msft.financials\n",
    "\n",
    "# Retrieving income statament from 2020\n",
    "income_2020 = income_statements[\"2020-06-30\"]\n",
    "income_2020"
   ]
  },
  {
   "cell_type": "code",
   "execution_count": null,
   "id": "2bd6bd48",
   "metadata": {},
   "outputs": [],
   "source": []
  }
 ],
 "metadata": {
  "kernelspec": {
   "display_name": "Python 3 (ipykernel)",
   "language": "python",
   "name": "python3"
  },
  "language_info": {
   "codemirror_mode": {
    "name": "ipython",
    "version": 3
   },
   "file_extension": ".py",
   "mimetype": "text/x-python",
   "name": "python",
   "nbconvert_exporter": "python",
   "pygments_lexer": "ipython3",
   "version": "3.10.5"
  }
 },
 "nbformat": 4,
 "nbformat_minor": 5
}
